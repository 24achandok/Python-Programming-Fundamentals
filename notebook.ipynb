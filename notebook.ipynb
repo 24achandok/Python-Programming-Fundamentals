{
 "cells": [
  {
   "metadata": {},
   "cell_type": "markdown",
   "source": "# Python Programming: Basic Tutorial\n",
   "id": "8a77807f92f26ee"
  },
  {
   "metadata": {
    "ExecuteTime": {
     "end_time": "2025-07-17T17:44:10.953217Z",
     "start_time": "2025-07-17T17:43:53.394046Z"
    }
   },
   "cell_type": "code",
   "source": [
    "#Variables and Data Types\n",
    "#A Variable is a placeholder that stores information that can be recalled or changed anytime in the program. For example, \"variable = 5\".\n",
    "#There are 6 main data types that can be used in a variable: \"int\" (integer), \"float\", \"str\" (string), booleans, lists, and tuples.\n",
    "integer = int(input(\"Enter an integer: \"))\n",
    "Float = float(input(\"Enter a decimal number: \"))\n",
    "#If a variable is assigned an input without a specific class, it automatically is classified as a string\n",
    "string = str(input(\"Enter a string (sentence): \"))\n",
    "boolean = True #True or False\n",
    "List = ['London', 'Manchester', 'Liverpool', 'Leeds', 'Devon', 1, 2, 3] #length of the list can be changed, indefinite\n",
    "Tuple = ('London', 'Manchester', 'Liverpool', 'Leeds', 'Devon', 1, 2, 3) #length of the tuple cannot be changed, definite\n",
    "print(f\"your integer is {integer}\")\n",
    "print(f\"your decimal number is {Float}\")\n",
    "print(f\"your sentence is '{string}'\")\n",
    "print(boolean)\n",
    "print(List[0]) #change the number inside the square brackets to show a specific item in the list\n",
    "print(Tuple[3]) #change the number inside the square brackets to show a specific item in the list"
   ],
   "id": "e5f8d57fe31b31b6",
   "outputs": [
    {
     "name": "stdout",
     "output_type": "stream",
     "text": [
      "your integer is 1\n",
      "your decimal number is 1.2\n",
      "your sentence is 'hello, 123, 123'\n",
      "True\n",
      "London\n",
      "Leeds\n"
     ]
    }
   ],
   "execution_count": 7
  },
  {
   "metadata": {
    "ExecuteTime": {
     "end_time": "2025-07-17T17:43:45.336420900Z",
     "start_time": "2025-07-17T17:40:10.970581Z"
    }
   },
   "cell_type": "code",
   "source": [
    "#Lists\n",
    "part1 = [1, 2, 3]\n",
    "part2 = [\"four\", \"five\", \"six\"]\n",
    "part3 = [4147, 1241, 324235, 12, 24115, 141, 12]\n",
    "part1.extend(part2) #this adds \"part2\" to the end of \"part1\"\n",
    "print(part1)\n",
    "part1.append(\"seven\") #this adds the string \"seven\" to the end of the full list\n",
    "print(part1)\n",
    "part1.insert(0, \"zero\") #this adds an item to a specific part of the list\n",
    "print(part1)\n",
    "part1.remove(\"zero\") #this removes a specific item from the list\n",
    "print(part1)\n",
    "part1.pop() #this removes the last item from the list\n",
    "print(part1)\n",
    "print(part1.index(\"four\")) #this shows you where in the list a specific item is\n",
    "part1.insert(4, \"five\")\n",
    "print(part1.count(\"five\")) #this counts the number of times a specific item appears in a list\n",
    "part3.sort() #this sorts the list in ascending order (1... and A->Z)\n",
    "print(part3)\n",
    "part1.reverse() #this reverses the whole list. it can also be written as \"part1.sort(reverse=True)\"\n",
    "print(part1)\n",
    "part2 = part1.copy #this creates a copy of a list inside a new variable\n",
    "print(part2)"
   ],
   "id": "f39efe58e98dce8",
   "outputs": [
    {
     "name": "stdout",
     "output_type": "stream",
     "text": [
      "[1, 2, 3, 'four', 'five', 'six']\n",
      "[1, 2, 3, 'four', 'five', 'six', 'seven']\n",
      "['zero', 1, 2, 3, 'four', 'five', 'six', 'seven']\n",
      "[1, 2, 3, 'four', 'five', 'six', 'seven']\n",
      "[1, 2, 3, 'four', 'five', 'six']\n",
      "3\n",
      "2\n",
      "[12, 12, 141, 1241, 4147, 24115, 324235]\n",
      "['six', 'five', 'five', 'four', 3, 2, 1]\n",
      "<built-in method copy of list object at 0x000001AEAD5066C0>\n"
     ]
    }
   ],
   "execution_count": 5
  },
  {
   "metadata": {},
   "cell_type": "code",
   "outputs": [],
   "execution_count": null,
   "source": "#Tuples\n",
   "id": "cf489fc2c3702906"
  }
 ],
 "metadata": {
  "kernelspec": {
   "display_name": "Python 3",
   "language": "python",
   "name": "python3"
  },
  "language_info": {
   "codemirror_mode": {
    "name": "ipython",
    "version": 2
   },
   "file_extension": ".py",
   "mimetype": "text/x-python",
   "name": "python",
   "nbconvert_exporter": "python",
   "pygments_lexer": "ipython2",
   "version": "2.7.6"
  }
 },
 "nbformat": 4,
 "nbformat_minor": 5
}
