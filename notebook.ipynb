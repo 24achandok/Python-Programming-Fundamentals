{
 "cells": [
  {
   "metadata": {},
   "cell_type": "markdown",
   "source": "# Python Programming: Basic Tutorial\n",
   "id": "8a77807f92f26ee"
  },
  {
   "metadata": {},
   "cell_type": "markdown",
   "source": [
    "# Variables and Data Types\n",
    "A Variable is a placeholder that stores information that can be recalled or changed anytime in the program. For example, \"variable = 5\".\n",
    "There are 6 main data types that can be used in a variable: \"int\" (integer), \"float\", \"str\" (string), booleans, lists, and tuples."
   ],
   "id": "98b92e22248c681f"
  },
  {
   "metadata": {
    "ExecuteTime": {
     "end_time": "2025-07-22T10:21:03.509238Z",
     "start_time": "2025-07-22T10:20:49.076571Z"
    }
   },
   "cell_type": "code",
   "source": [
    "#Variables and Data Types\n",
    "#A Variable is a placeholder that stores information that can be recalled or changed anytime in the program. For example, \"variable = 5\".\n",
    "#There are 6 main data types that can be used in a variable: \"int\" (integer), \"float\", \"str\" (string), booleans, lists, and tuples.\n",
    "integer = int(input(\"Enter an integer: \"))\n",
    "Float = float(input(\"Enter a decimal number: \"))\n",
    "#If a variable is assigned an input without a specific class, it automatically is classified as a string\n",
    "string = str(input(\"Enter a string (sentence): \"))\n",
    "boolean = True #True or False\n",
    "List = ['London', 'Manchester', 'Liverpool', 'Leeds', 'Devon', 1, 2, 3] #a list can be changed\n",
    "Tuple = ('London', 'Manchester', 'Liverpool', 'Leeds', 'Devon', 1, 2, 3) #a tuple is unchangeable\n",
    "print(f\"your integer is {integer}\")\n",
    "print(f\"your decimal number is {Float}\")\n",
    "print(f\"your sentence is '{string}'\")\n",
    "print(boolean)\n",
    "print(List[0]) #change the number inside the square brackets to show a specific item in the list\n",
    "print(Tuple[3]) #change the number inside the square brackets to show a specific item in the list"
   ],
   "id": "e5f8d57fe31b31b6",
   "outputs": [
    {
     "name": "stdout",
     "output_type": "stream",
     "text": [
      "your integer is 1\n",
      "your decimal number is 1.2\n",
      "your sentence is 'hello world'\n",
      "True\n",
      "London\n",
      "Leeds\n"
     ]
    }
   ],
   "execution_count": 8
  },
  {
   "metadata": {},
   "cell_type": "markdown",
   "source": [
    "# Lists\n",
    "A list is used to store multiple items under one variable"
   ],
   "id": "25a8e7399ddfaa3a"
  },
  {
   "metadata": {
    "ExecuteTime": {
     "end_time": "2025-07-22T10:21:03.613876Z",
     "start_time": "2025-07-22T10:21:03.603949Z"
    }
   },
   "cell_type": "code",
   "source": [
    "list1 = [1, 2, 3]\n",
    "list2 = [\"four\", \"five\", \"six\"]\n",
    "list3 = [4147, 1241, 324235, 12, 24115, 141, 12]\n",
    "list1.extend(list2) #this adds \"list2\" to the end of \"list1\"\n",
    "print(list1)\n",
    "list1.append(\"seven\") #this adds the string \"seven\" to the end of the full list\n",
    "print(list1)\n",
    "list1.insert(0, \"zero\") #this adds an item to a specific part of the list\n",
    "print(list1)\n",
    "list1.remove(\"zero\") #this removes a specific item from the list\n",
    "print(list1)\n",
    "list1.pop() #this removes the last item from the list\n",
    "print(list1)\n",
    "print(list1.index(\"four\")) #this shows you where in the list a specific item is\n",
    "list1.insert(4, \"five\")\n",
    "print(list1.count(\"five\")) #this counts the number of times a specific item appears in a list\n",
    "list3.sort() #this sorts the list in ascending order (1... and A->Z). it can only be used with one data type in a list.\n",
    "print(list3)\n",
    "list1.reverse() #this reverses the whole list. it can also be written as \"list1.sort(reverse=True)\"\n",
    "print(list1)\n",
    "list2 = list1.copy #this creates a copy of a list inside a new variable\n",
    "print(list2)"
   ],
   "id": "f39efe58e98dce8",
   "outputs": [
    {
     "name": "stdout",
     "output_type": "stream",
     "text": [
      "[1, 2, 3, 'four', 'five', 'six']\n",
      "[1, 2, 3, 'four', 'five', 'six', 'seven']\n",
      "['zero', 1, 2, 3, 'four', 'five', 'six', 'seven']\n",
      "[1, 2, 3, 'four', 'five', 'six', 'seven']\n",
      "[1, 2, 3, 'four', 'five', 'six']\n",
      "3\n",
      "2\n",
      "[12, 12, 141, 1241, 4147, 24115, 324235]\n",
      "['six', 'five', 'five', 'four', 3, 2, 1]\n",
      "<built-in method copy of list object at 0x000001E418A90940>\n"
     ]
    }
   ],
   "execution_count": 9
  },
  {
   "metadata": {},
   "cell_type": "markdown",
   "source": [
    "# Tuples\n",
    "A tuple is also used to store multiple items under one variable, but cannot be changed"
   ],
   "id": "68e67fb9bdd77015"
  },
  {
   "metadata": {
    "ExecuteTime": {
     "end_time": "2025-07-22T10:21:03.651727Z",
     "start_time": "2025-07-22T10:21:03.645190Z"
    }
   },
   "cell_type": "code",
   "source": [
    "tuple1 = (\"apple\", \"banana\", \"cherry\")\n",
    "print(tuple1[1])\n",
    "#Tuples are only used when you need to store data that cannot and will not be changed, and so they are not used as much as lists"
   ],
   "id": "cf489fc2c3702906",
   "outputs": [
    {
     "name": "stdout",
     "output_type": "stream",
     "text": [
      "banana\n"
     ]
    }
   ],
   "execution_count": 10
  },
  {
   "metadata": {},
   "cell_type": "markdown",
   "source": [
    "# Functions\n",
    "A function is a block of code which only runs when it is called, as just one line"
   ],
   "id": "c117d773176f0486"
  },
  {
   "metadata": {
    "ExecuteTime": {
     "end_time": "2025-07-22T10:21:09.418445Z",
     "start_time": "2025-07-22T10:21:03.722888Z"
    }
   },
   "cell_type": "code",
   "source": [
    "def function1(): #this line is needed to create a function\n",
    "    print(\"Hello World\")\n",
    "    response1 = input(\"Say something: \")\n",
    "    print(f\"You said: '{response1}'\")\n",
    "\n",
    "function1() #This line is used to run the function"
   ],
   "id": "55be1edaa53bcc55",
   "outputs": [
    {
     "name": "stdout",
     "output_type": "stream",
     "text": [
      "Hello World\n",
      "You said: 'hello'\n"
     ]
    }
   ],
   "execution_count": 12
  },
  {
   "metadata": {},
   "cell_type": "markdown",
   "source": [
    "# Conditions\n",
    "Equals: a == b\n",
    "\n",
    "Not Equals: a != b\n",
    "\n",
    "Less than: a < b\n",
    "\n",
    "Less than or equal to: a <= b\n",
    "\n",
    "Greater than: a > b\n",
    "\n",
    "Greater than or equal to: a >= b\n",
    "\n",
    "These conditions are mostly used in if statements and loops"
   ],
   "id": "7156ebcd4ff21f06"
  },
  {
   "metadata": {
    "ExecuteTime": {
     "end_time": "2025-07-22T10:25:04.800324Z",
     "start_time": "2025-07-22T10:24:59.213759Z"
    }
   },
   "cell_type": "code",
   "source": [
    "#Conditionals (If statements)\n",
    "a = int(input(\"Enter an integer: \"))\n",
    "b = int(input(\"Enter another integer: \"))\n",
    "if b > a: #if a condition is met\n",
    "  print(\"b is greater than a\")\n",
    "elif a == b: #if the previous conditions were not met, try these conditions\n",
    "  print(\"a and b are equal\")\n",
    "else: #all other conditions\n",
    "  print(\"a is greater than b\")"
   ],
   "id": "9339ffb3a0e20d8",
   "outputs": [
    {
     "name": "stdout",
     "output_type": "stream",
     "text": [
      "a and b are equal\n"
     ]
    }
   ],
   "execution_count": 14
  },
  {
   "metadata": {},
   "cell_type": "markdown",
   "source": [
    "# Iteration (Loops)\n",
    "With a while loop, you can run a block of code as long as a condition is true.\n",
    "The for loop is used to run a block of code over a sequence (a list, tuple, or string)."
   ],
   "id": "9f5a56095d027774"
  },
  {
   "metadata": {
    "ExecuteTime": {
     "end_time": "2025-07-22T10:21:11.182681300Z",
     "start_time": "2025-07-22T10:06:47.449671Z"
    }
   },
   "cell_type": "code",
   "source": [
    "c = 1\n",
    "while c < 9:\n",
    "    print(c)\n",
    "    c += 1\n",
    "else: #this allows the code to stop when the condition is not met\n",
    "    print(\"c is no longer less than 9\")\n",
    "\n",
    "fruits = [\"apple\", \"banana\", \"cherry\"]\n",
    "for x in fruits:\n",
    "  print(x)\n",
    "  if x == \"banana\":\n",
    "      break #the break statement stops the loop\n",
    "#the \"continue\" statement can stop the current iteration of the loops and move to the next"
   ],
   "id": "629bb3ec78b3c2e1",
   "outputs": [
    {
     "name": "stdout",
     "output_type": "stream",
     "text": [
      "1\n",
      "2\n",
      "3\n",
      "4\n",
      "5\n",
      "6\n",
      "7\n",
      "8\n",
      "c is no longer less than 9\n",
      "apple\n",
      "banana\n",
      "cherry\n"
     ]
    }
   ],
   "execution_count": 6
  },
  {
   "metadata": {},
   "cell_type": "markdown",
   "source": [
    "# Dictionaries\n",
    "Dictionaries are used to store data values in key:value pairs.\n",
    "A dictionary is a collection which is ordered, changeable and does not allow duplicates.\n",
    "Dictionaries can store any data type."
   ],
   "id": "483fbda2ce7a75c0"
  },
  {
   "metadata": {
    "ExecuteTime": {
     "end_time": "2025-07-22T10:39:21.260028Z",
     "start_time": "2025-07-22T10:39:21.243671Z"
    }
   },
   "cell_type": "code",
   "source": [
    "months = {\n",
    "    1: \"January\",\n",
    "    2: \"February\",\n",
    "    3: \"March\",\n",
    "    4: \"April\",\n",
    "    5: \"May\",\n",
    "    6: \"June\",\n",
    "    7: \"July\",\n",
    "    8: \"August\",\n",
    "    9: \"September\",\n",
    "    10: \"October\",\n",
    "    11: \"November\",\n",
    "    12: \"December\"\n",
    "} #if there was a duplicate key, it would be overwritten\n",
    "print(months)\n",
    "print(len(months))\n",
    "mycar = {\n",
    "    \"brand\": \"Nissan\",\n",
    "    \"model\": \"X-Trail\",\n",
    "    \"year\": 2016,\n",
    "    \"electric\": False,\n",
    "    \"colours\": [\"silver\", \"white\"]\n",
    "}\n",
    "brand = mycar.get(\"brand\") #this accesses an item in the dictionary by using its key name\n",
    "mycarkeys = mycar.keys() #this will return all the keys in the dictionary\n",
    "print(brand)\n",
    "print(mycarkeys)\n",
    "mycar.update({\"year\": 2020}) #this changes, adds, or removes a value in the dictionary\n",
    "year = mycar.get(\"year\")\n",
    "print(year)"
   ],
   "id": "b4d74e5a54d3d8b9",
   "outputs": [
    {
     "name": "stdout",
     "output_type": "stream",
     "text": [
      "{1: 'January', 2: 'February', 3: 'March', 4: 'April', 5: 'May', 6: 'June', 7: 'July', 8: 'August', 9: 'September', 10: 'October', 11: 'November', 12: 'December'}\n",
      "12\n",
      "Nissan\n",
      "dict_keys(['brand', 'model', 'year', 'electric', 'colours'])\n",
      "2020\n"
     ]
    }
   ],
   "execution_count": 16
  },
  {
   "metadata": {},
   "cell_type": "markdown",
   "source": [
    "# Sets\n",
    "A set is similar to a dictionary, but is not ordered, is unchangable (you can add or remove items), and unindexed."
   ],
   "id": "3c5d2b84cd2e8a05"
  },
  {
   "metadata": {
    "ExecuteTime": {
     "end_time": "2025-07-22T10:47:06.545817Z",
     "start_time": "2025-07-22T10:47:06.538329Z"
    }
   },
   "cell_type": "code",
   "source": [
    "set1 = {\"apple\", \"banana\", \"cherry\"}\n",
    "print(set1)\n",
    "set1.add(\"durian\") #this adds an item to the end of the set\n",
    "print(set1)\n",
    "set1.remove(\"banana\") #this removes an item from the set\n",
    "print(set1)"
   ],
   "id": "8f4f8bdfeefda22f",
   "outputs": [
    {
     "name": "stdout",
     "output_type": "stream",
     "text": [
      "{'cherry', 'apple', 'banana'}\n",
      "{'cherry', 'apple', 'durian', 'banana'}\n",
      "{'cherry', 'apple', 'durian'}\n"
     ]
    }
   ],
   "execution_count": 17
  },
  {
   "metadata": {},
   "cell_type": "markdown",
   "source": [
    "# Try/Except\n",
    "The try block lets you test a block of code for errors.\n",
    "\n",
    "The except block lets you handle the error.\n",
    "\n",
    "The else block lets you execute code when there is no error.\n",
    "\n",
    "The finally block lets you execute code, regardless of the result of the try and except blocks."
   ],
   "id": "1049be55d97e4c12"
  },
  {
   "metadata": {
    "ExecuteTime": {
     "end_time": "2025-07-22T10:51:27.433218Z",
     "start_time": "2025-07-22T10:51:27.422388Z"
    }
   },
   "cell_type": "code",
   "source": [
    "try:\n",
    "    print(z)\n",
    "except:\n",
    "    print(\"something went wrong\") #this prints this line as 'z' is not defined\n",
    "finally:\n",
    "    print(\"the try/except block is finished\")"
   ],
   "id": "5483ed6e5d7f7073",
   "outputs": [
    {
     "name": "stdout",
     "output_type": "stream",
     "text": [
      "something went wrong\n",
      "the try/except block is finished\n"
     ]
    }
   ],
   "execution_count": 18
  }
 ],
 "metadata": {
  "kernelspec": {
   "display_name": "Python 3",
   "language": "python",
   "name": "python3"
  },
  "language_info": {
   "codemirror_mode": {
    "name": "ipython",
    "version": 2
   },
   "file_extension": ".py",
   "mimetype": "text/x-python",
   "name": "python",
   "nbconvert_exporter": "python",
   "pygments_lexer": "ipython2",
   "version": "2.7.6"
  }
 },
 "nbformat": 4,
 "nbformat_minor": 5
}
