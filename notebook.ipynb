{
 "cells": [
  {
   "metadata": {},
   "cell_type": "markdown",
   "source": "# Python Programming: Basic Tutorial\n",
   "id": "8a77807f92f26ee"
  },
  {
   "metadata": {
    "ExecuteTime": {
     "end_time": "2025-07-17T17:44:10.953217Z",
     "start_time": "2025-07-17T17:43:53.394046Z"
    }
   },
   "cell_type": "code",
   "source": [
    "#Variables and Data Types\n",
    "#A Variable is a placeholder that stores information that can be recalled or changed anytime in the program. For example, \"variable = 5\".\n",
    "#There are 6 main data types that can be used in a variable: \"int\" (integer), \"float\", \"str\" (string), booleans, lists, and tuples.\n",
    "integer = int(input(\"Enter an integer: \"))\n",
    "Float = float(input(\"Enter a decimal number: \"))\n",
    "#If a variable is assigned an input without a specific class, it automatically is classified as a string\n",
    "string = str(input(\"Enter a string (sentence): \"))\n",
    "boolean = True #True or False\n",
    "List = ['London', 'Manchester', 'Liverpool', 'Leeds', 'Devon', 1, 2, 3] #a list can be changed\n",
    "Tuple = ('London', 'Manchester', 'Liverpool', 'Leeds', 'Devon', 1, 2, 3) #a tuple is unchangeable\n",
    "print(f\"your integer is {integer}\")\n",
    "print(f\"your decimal number is {Float}\")\n",
    "print(f\"your sentence is '{string}'\")\n",
    "print(boolean)\n",
    "print(List[0]) #change the number inside the square brackets to show a specific item in the list\n",
    "print(Tuple[3]) #change the number inside the square brackets to show a specific item in the list"
   ],
   "id": "e5f8d57fe31b31b6",
   "outputs": [
    {
     "name": "stdout",
     "output_type": "stream",
     "text": [
      "your integer is 1\n",
      "your decimal number is 1.2\n",
      "your sentence is 'hello, 123, 123'\n",
      "True\n",
      "London\n",
      "Leeds\n"
     ]
    }
   ],
   "execution_count": 7
  },
  {
   "metadata": {
    "ExecuteTime": {
     "end_time": "2025-07-17T17:43:45.336420900Z",
     "start_time": "2025-07-17T17:40:10.970581Z"
    }
   },
   "cell_type": "code",
   "source": [
    "#Lists\n",
    "#A list is used to store multiple items under one variable\n",
    "list1 = [1, 2, 3]\n",
    "list2 = [\"four\", \"five\", \"six\"]\n",
    "list3 = [4147, 1241, 324235, 12, 24115, 141, 12]\n",
    "list1.extend(list2) #this adds \"list2\" to the end of \"list1\"\n",
    "print(list1)\n",
    "list1.append(\"seven\") #this adds the string \"seven\" to the end of the full list\n",
    "print(list1)\n",
    "list1.insert(0, \"zero\") #this adds an item to a specific part of the list\n",
    "print(list1)\n",
    "list1.remove(\"zero\") #this removes a specific item from the list\n",
    "print(list1)\n",
    "list1.pop() #this removes the last item from the list\n",
    "print(list1)\n",
    "print(list1.index(\"four\")) #this shows you where in the list a specific item is\n",
    "list1.insert(4, \"five\")\n",
    "print(list1.count(\"five\")) #this counts the number of times a specific item appears in a list\n",
    "list3.sort() #this sorts the list in ascending order (1... and A->Z). it can only be used with one data type in a list.\n",
    "print(list3)\n",
    "list1.reverse() #this reverses the whole list. it can also be written as \"list1.sort(reverse=True)\"\n",
    "print(list1)\n",
    "list2 = list1.copy #this creates a copy of a list inside a new variable\n",
    "print(list2)"
   ],
   "id": "f39efe58e98dce8",
   "outputs": [
    {
     "name": "stdout",
     "output_type": "stream",
     "text": [
      "[1, 2, 3, 'four', 'five', 'six']\n",
      "[1, 2, 3, 'four', 'five', 'six', 'seven']\n",
      "['zero', 1, 2, 3, 'four', 'five', 'six', 'seven']\n",
      "[1, 2, 3, 'four', 'five', 'six', 'seven']\n",
      "[1, 2, 3, 'four', 'five', 'six']\n",
      "3\n",
      "2\n",
      "[12, 12, 141, 1241, 4147, 24115, 324235]\n",
      "['six', 'five', 'five', 'four', 3, 2, 1]\n",
      "<built-in method copy of list object at 0x000001AEAD5066C0>\n"
     ]
    }
   ],
   "execution_count": 5
  },
  {
   "metadata": {
    "ExecuteTime": {
     "end_time": "2025-07-17T20:26:26.439418Z",
     "start_time": "2025-07-17T20:26:26.430543Z"
    }
   },
   "cell_type": "code",
   "source": [
    "#Tuples\n",
    "#A tuple is also used to store multiple items under one variable, but cannot be changed\n",
    "tuple1 = (\"apple\", \"banana\", \"cherry\")\n",
    "print(tuple1[1])\n",
    "#Tuples are only used when you need to store data that cannot and will not be changed, and so they are not used as much as lists"
   ],
   "id": "cf489fc2c3702906",
   "outputs": [
    {
     "name": "stdout",
     "output_type": "stream",
     "text": [
      "banana\n"
     ]
    }
   ],
   "execution_count": 11
  },
  {
   "metadata": {
    "ExecuteTime": {
     "end_time": "2025-07-17T20:41:42.601830Z",
     "start_time": "2025-07-17T20:41:33.880120Z"
    }
   },
   "cell_type": "code",
   "source": [
    "#Functions\n",
    "#A function is a block of code which only runs when it is called, as just one line\n",
    "def function1(): #this line is needed to create a function\n",
    "    print(\"Hello World\")\n",
    "    response1 = input(\"Say something: \")\n",
    "    print(f\"You said: '{response1}'\")\n",
    "\n",
    "function1() #This line is used to run the function"
   ],
   "id": "55be1edaa53bcc55",
   "outputs": [
    {
     "name": "stdout",
     "output_type": "stream",
     "text": [
      "Hello World\n",
      "You said: 'hello computer'\n"
     ]
    }
   ],
   "execution_count": 12
  },
  {
   "metadata": {},
   "cell_type": "code",
   "outputs": [],
   "execution_count": null,
   "source": "#Conditionals (If statements)\n",
   "id": "9339ffb3a0e20d8"
  },
  {
   "metadata": {},
   "cell_type": "code",
   "outputs": [],
   "execution_count": null,
   "source": "#Iteration (Loops)",
   "id": "629bb3ec78b3c2e1"
  }
 ],
 "metadata": {
  "kernelspec": {
   "display_name": "Python 3",
   "language": "python",
   "name": "python3"
  },
  "language_info": {
   "codemirror_mode": {
    "name": "ipython",
    "version": 2
   },
   "file_extension": ".py",
   "mimetype": "text/x-python",
   "name": "python",
   "nbconvert_exporter": "python",
   "pygments_lexer": "ipython2",
   "version": "2.7.6"
  }
 },
 "nbformat": 4,
 "nbformat_minor": 5
}
