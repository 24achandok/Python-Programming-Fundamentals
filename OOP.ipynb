{
 "cells": [
  {
   "metadata": {},
   "cell_type": "markdown",
   "source": "# Object Oriented Programming Basics",
   "id": "46f667d5c48b3906"
  },
  {
   "metadata": {},
   "cell_type": "markdown",
   "source": [
    "# Constructor & __init__()\n",
    "All classes have a method called __init__(), which is always executed when the class is being initiated.\n",
    "You can use the __init__() method to assign values to object properties, or operations which are necessary to complete when an object is being created.\n",
    "\n",
    "The __str__() method controls what should be returned when the class object is represented as a string."
   ],
   "id": "80af1618fd5ec653"
  },
  {
   "cell_type": "code",
   "id": "initial_id",
   "metadata": {
    "collapsed": true,
    "jupyter": {
     "is_executing": true
    }
   },
   "source": [
    "class Item:\n",
    "    def __init__(self, name: str, price: float, quantity=0):\n",
    "        #run validations to the received arguments\n",
    "        assert price >= 0, f\"Price {price} is not greater than or equal to zero!\"\n",
    "        assert quantity >= 0, f\"Quantity {quantity} is not greater or equal to zero!\"\n",
    "\n",
    "        #assign to self object\n",
    "        self.name = name\n",
    "        self.price = price\n",
    "        self.quantity = quantity\n",
    "\n",
    "    def calculate_total_price(self):\n",
    "        return self.price * self.quantity\n",
    "\n",
    "    def __str__(self):\n",
    "        return f\"Name: {self.name}\\nPrice: {self.price}\\nQuantity: {self.quantity}\"\n",
    "\n",
    "item1 = Item(\"Phone\", 100, 1)\n",
    "item2 = Item(\"Laptop\", 1000, 3)\n",
    "\n",
    "print(item1)\n",
    "print(item2)\n",
    "print(item1.calculate_total_price())\n",
    "print(item2.calculate_total_price())"
   ],
   "outputs": [],
   "execution_count": null
  }
 ],
 "metadata": {
  "kernelspec": {
   "display_name": "Python 3",
   "language": "python",
   "name": "python3"
  },
  "language_info": {
   "codemirror_mode": {
    "name": "ipython",
    "version": 2
   },
   "file_extension": ".py",
   "mimetype": "text/x-python",
   "name": "python",
   "nbconvert_exporter": "python",
   "pygments_lexer": "ipython2",
   "version": "2.7.6"
  }
 },
 "nbformat": 4,
 "nbformat_minor": 5
}
