{
 "cells": [
  {
   "metadata": {},
   "cell_type": "markdown",
   "source": "# **Object Oriented Programming Basics**",
   "id": "46f667d5c48b3906"
  },
  {
   "metadata": {},
   "cell_type": "markdown",
   "source": [
    "# Constructor & __init__()\n",
    "All classes have a method called __init__(), which is always executed when the class is being initiated.\n",
    "You can use the __init__() method to assign values to object properties, or operations which are necessary to complete when an object is being created.\n",
    "\n",
    "The __str__() or the __repr__() method controls what should be returned when the class object is represented as a string.\n",
    "\n",
    "You can delete instances by using the __del__ function."
   ],
   "id": "80af1618fd5ec653"
  },
  {
   "cell_type": "code",
   "id": "initial_id",
   "metadata": {
    "collapsed": true,
    "ExecuteTime": {
     "end_time": "2025-07-25T11:59:45.575018Z",
     "start_time": "2025-07-25T11:59:45.556390Z"
    }
   },
   "source": [
    "class Item: #this creates a class\n",
    "    def __init__(self, name: str, price: float, quantity=0):\n",
    "        #run validations to the received arguments\n",
    "        assert price >= 0, f\"Price {price} is not greater than or equal to zero!\"\n",
    "        assert quantity >= 0, f\"Quantity {quantity} is not greater or equal to zero!\"\n",
    "\n",
    "        #assign to self object\n",
    "        self.name = name\n",
    "        self.price = price\n",
    "        self.quantity = quantity\n",
    "\n",
    "    def calculate_total_price(self):\n",
    "        return self.price * self.quantity\n",
    "\n",
    "    def __str__(self):\n",
    "        return f\"Item('{self.name}', {self.price}, {self.quantity})\"\n",
    "\n",
    "item1 = Item(\"Phone\", 200, 1) #this creates an instance of the class, and assigns its attributes\n",
    "item2 = Item(\"Laptop\", 1500, 3)\n",
    "item3 = Item(\"Cable\", 10, 5)\n",
    "item4 = Item(\"Mouse\", 50, 5)\n",
    "item5 = Item(\"Keyboard\", 75, 5)\n",
    "\n",
    "print(item1)\n",
    "print(item1.calculate_total_price()) #this calls the methods from the instances of a class\n",
    "print(item2.calculate_total_price())\n",
    "print(item3.calculate_total_price())\n",
    "print(item4.calculate_total_price())\n",
    "print(item5.calculate_total_price())"
   ],
   "outputs": [
    {
     "name": "stdout",
     "output_type": "stream",
     "text": [
      "Item('Phone', 200, 1)\n",
      "200\n",
      "4500\n",
      "50\n",
      "250\n",
      "375\n"
     ]
    }
   ],
   "execution_count": 27
  },
  {
   "metadata": {},
   "cell_type": "markdown",
   "source": [
    "# Class v. Static Methods\n",
    "The class method reads data from a .csv file and creates objects from it. The @classmethod line means it takes cls as the first parameter instead of self. cls refers to the class itself.\n",
    "\n",
    "The static method does not take self or cls as the first argument, does not need access to the object or class itself, and lives inside the class.\n",
    "\n",
    "The @classmethod and @staticmethod lines are decorators."
   ],
   "id": "6f565e6a52f6ddc0"
  },
  {
   "metadata": {
    "ExecuteTime": {
     "end_time": "2025-07-25T21:16:32.441384Z",
     "start_time": "2025-07-25T21:16:32.423537Z"
    }
   },
   "cell_type": "code",
   "source": [
    "import csv\n",
    "\n",
    "class Item: #this creates a class\n",
    "    def __init__(self, name: str, price: float, quantity=0):\n",
    "        #run validations to the received arguments\n",
    "        assert price >= 0, f\"Price {price} is not greater than or equal to zero!\"\n",
    "        assert quantity >= 0, f\"Quantity {quantity} is not greater or equal to zero!\"\n",
    "\n",
    "        #assign to self object\n",
    "        self.name = name\n",
    "        self.price = price\n",
    "        self.quantity = quantity\\\n",
    "\n",
    "        Item.all.append(self)\n",
    "\n",
    "    def calculate_total_price(self):\n",
    "        return self.price * self.quantity\n",
    "\n",
    "    @classmethod\n",
    "    def instantiate_from_csv(cls):\n",
    "        with open('items.csv', 'r') as f:\n",
    "            reader = csv.DictReader(f)\n",
    "            items = list(reader)\n",
    "\n",
    "        for item in items:\n",
    "            Item(\n",
    "                name=item.get('name'),\n",
    "                price=float(item.get('price')),\n",
    "                quantity=int(item.get('quantity')),\n",
    "            )\n",
    "\n",
    "    @staticmethod\n",
    "    def is_integer(num): #the function does not need self or cls\n",
    "        #i have counted out the floats that are point zero\n",
    "        #eg: 5.0, 10.0\n",
    "        if isinstance(num, float):\n",
    "            #counting out the floats that are point zero\n",
    "            return num.is_integer()\n",
    "        elif isinstance(num, int):\n",
    "            return True\n",
    "        else:\n",
    "            return False\n",
    "\n",
    "    def __repr__(self):\n",
    "        return f\"Item('{self.name}', {self.price}, {self.quantity})\""
   ],
   "id": "df42f1b4eb5b2325",
   "outputs": [],
   "execution_count": 3
  },
  {
   "metadata": {},
   "cell_type": "markdown",
   "source": [
    "# Inheritance\n",
    "Inheritance allows one class (called the child or subclass) to inherit properties and methods from another class (called the parent or superclass).\n",
    "\n",
    "This allows you to reuse code and create a hierarchy of classes."
   ],
   "id": "d02782759d629082"
  },
  {
   "metadata": {
    "ExecuteTime": {
     "end_time": "2025-07-25T21:13:13.942054Z",
     "start_time": "2025-07-25T21:13:13.928041Z"
    }
   },
   "cell_type": "code",
   "source": [
    "#parent class\n",
    "class Item:\n",
    "    def __init__(self, name, price, quantity=0):\n",
    "        assert price >= 0, f\"Price {price} must be >= 0\"\n",
    "        assert quantity >= 0, f\"Quantity {quantity} must be >= 0\"\n",
    "\n",
    "        self.name = name\n",
    "        self.price = price\n",
    "        self.quantity = quantity\n",
    "\n",
    "    def calculate_total_price(self):\n",
    "        return self.price * self.quantity\n",
    "\n",
    "    def __repr__(self):\n",
    "        return f\"Item('{self.name}', {self.price}, {self.quantity})\"\n",
    "\n",
    "\n",
    "#child class that inherits from Item\n",
    "class Phone(Item):\n",
    "    def __init__(self, name, price, quantity, broken_phones=0):\n",
    "        # Call the parent class constructor\n",
    "        super().__init__(name, price, quantity)\n",
    "        assert broken_phones >= 0, \"Broken phones cannot be negative\"\n",
    "        self.broken_phones = broken_phones\n",
    "\n",
    "    def __repr__(self):\n",
    "        return (f\"Phone('{self.name}', {self.price}, {self.quantity}, \"\n",
    "                f\"{self.broken_phones} broken)\")\n",
    "\n",
    "    def working_phones(self):\n",
    "        return self.quantity - self.broken_phones\n",
    "\n",
    "item1 = Item(\"Keyboard\", 50, 5)\n",
    "print(item1)\n",
    "print(\"Total price:\", item1.calculate_total_price())\n",
    "\n",
    "print(\"\\n---\")\n",
    "\n",
    "phone1 = Phone(\"iPhone\", 999, 10, 2)\n",
    "print(phone1)\n",
    "print(\"Total price:\", phone1.calculate_total_price())\n",
    "print(\"Working phones:\", phone1.working_phones())\n"
   ],
   "id": "8d7adda868416a42",
   "outputs": [
    {
     "name": "stdout",
     "output_type": "stream",
     "text": [
      "Item('Keyboard', 50, 5)\n",
      "Total price: 250\n",
      "\n",
      "---\n",
      "Phone('iPhone', 999, 10, 2 broken)\n",
      "Total price: 9990\n",
      "Working phones: 8\n"
     ]
    }
   ],
   "execution_count": 31
  },
  {
   "metadata": {},
   "cell_type": "markdown",
   "source": [
    "# Getters and Setters\n",
    "Code without Getters and Setters is 'unsafe' as you can directly access and change any of the attributes of the class. With it, you can control (and validate) how an attribute is set. It prevents invalid data and uses **encapsulation**. This requires the @property decorator which reads the value, and @property.setter to update the value with validation."
   ],
   "id": "aca1be42043b4e10"
  },
  {
   "metadata": {
    "ExecuteTime": {
     "end_time": "2025-07-26T21:28:28.561018Z",
     "start_time": "2025-07-26T21:28:28.483848Z"
    }
   },
   "cell_type": "code",
   "source": [
    "import csv\n",
    "\n",
    "class Item: #this creates a class\n",
    "    def __init__(self, name: str, price: float, quantity=0):\n",
    "        #run validations to the received arguments\n",
    "        assert price >= 0, f\"Price {price} is not greater than or equal to zero!\"\n",
    "        assert quantity >= 0, f\"Quantity {quantity} is not greater or equal to zero!\"\n",
    "\n",
    "        #assign to self object\n",
    "        self.name = name\n",
    "        self.price = price\n",
    "        self.quantity = quantity\\\n",
    "\n",
    "        Item.all.append(self) #this raises an error I am unable to understand\n",
    "\n",
    "    def calculate_total_price(self):\n",
    "        return self.price * self.quantity\n",
    "\n",
    "    @classmethod\n",
    "    def instantiate_from_csv(cls):\n",
    "        with open('items.csv', 'r') as f:\n",
    "            reader = csv.DictReader(f)\n",
    "            items = list(reader)\n",
    "\n",
    "        for item in items:\n",
    "            Item(\n",
    "                name=item.get('name'),\n",
    "                price=float(item.get('price')),\n",
    "                quantity=int(item.get('quantity')),\n",
    "            )\n",
    "\n",
    "    @staticmethod\n",
    "    def is_integer(num): #the function does not need self or cls\n",
    "        #i have counted out the floats that are point zero\n",
    "        #eg: 5.0, 10.0\n",
    "        if isinstance(num, float):\n",
    "            #counting out the floats that are point zero\n",
    "            return num.is_integer()\n",
    "        elif isinstance(num, int):\n",
    "            return True\n",
    "        else:\n",
    "            return False\n",
    "\n",
    "    def __repr__(self):\n",
    "        return f\"Item('{self.name}', {self.price}, {self.quantity})\"\n",
    "\n",
    "class Phone(Item):\n",
    "    def __init__(self, name, price):\n",
    "        self.name = name\n",
    "        self._price = price\n",
    "\n",
    "    @property\n",
    "    def price(self):\n",
    "        return self._price  # getter\n",
    "\n",
    "    @price.setter\n",
    "    def price(self, value):\n",
    "        if value >= 0:\n",
    "            self._price = value\n",
    "        else:\n",
    "            raise ValueError(\"Price must be non-negative\")\n",
    "\n",
    "item1 = Item(\"Phone\", 1000)\n",
    "print(item1.price)\n",
    "\n",
    "item1.price = 1200\n",
    "item1.price = -50 #this is invalid, and so will raise an error"
   ],
   "id": "786ac1023417a44b",
   "outputs": [
    {
     "ename": "AttributeError",
     "evalue": "type object 'Item' has no attribute 'all'",
     "output_type": "error",
     "traceback": [
      "\u001B[31m---------------------------------------------------------------------------\u001B[39m",
      "\u001B[31mAttributeError\u001B[39m                            Traceback (most recent call last)",
      "\u001B[36mCell\u001B[39m\u001B[36m \u001B[39m\u001B[32mIn[7]\u001B[39m\u001B[32m, line 63\u001B[39m\n\u001B[32m     60\u001B[39m         \u001B[38;5;28;01melse\u001B[39;00m:\n\u001B[32m     61\u001B[39m             \u001B[38;5;28;01mraise\u001B[39;00m \u001B[38;5;167;01mValueError\u001B[39;00m(\u001B[33m\"\u001B[39m\u001B[33mPrice must be non-negative\u001B[39m\u001B[33m\"\u001B[39m)\n\u001B[32m---> \u001B[39m\u001B[32m63\u001B[39m item1 = \u001B[43mItem\u001B[49m\u001B[43m(\u001B[49m\u001B[33;43m\"\u001B[39;49m\u001B[33;43mPhone\u001B[39;49m\u001B[33;43m\"\u001B[39;49m\u001B[43m,\u001B[49m\u001B[43m \u001B[49m\u001B[32;43m1000\u001B[39;49m\u001B[43m)\u001B[49m\n\u001B[32m     64\u001B[39m \u001B[38;5;28mprint\u001B[39m(item1.price)\n\u001B[32m     66\u001B[39m item1.price = \u001B[32m1200\u001B[39m\n",
      "\u001B[36mCell\u001B[39m\u001B[36m \u001B[39m\u001B[32mIn[7]\u001B[39m\u001B[32m, line 14\u001B[39m, in \u001B[36mItem.__init__\u001B[39m\u001B[34m(self, name, price, quantity)\u001B[39m\n\u001B[32m     11\u001B[39m \u001B[38;5;28mself\u001B[39m.price = price\n\u001B[32m     12\u001B[39m \u001B[38;5;28mself\u001B[39m.quantity = quantity\\\n\u001B[32m---> \u001B[39m\u001B[32m14\u001B[39m \u001B[43mItem\u001B[49m\u001B[43m.\u001B[49m\u001B[43mall\u001B[49m.append(\u001B[38;5;28mself\u001B[39m)\n",
      "\u001B[31mAttributeError\u001B[39m: type object 'Item' has no attribute 'all'"
     ]
    }
   ],
   "execution_count": 7
  }
 ],
 "metadata": {
  "kernelspec": {
   "display_name": "Python 3",
   "language": "python",
   "name": "python3"
  },
  "language_info": {
   "codemirror_mode": {
    "name": "ipython",
    "version": 2
   },
   "file_extension": ".py",
   "mimetype": "text/x-python",
   "name": "python",
   "nbconvert_exporter": "python",
   "pygments_lexer": "ipython2",
   "version": "2.7.6"
  }
 },
 "nbformat": 4,
 "nbformat_minor": 5
}
